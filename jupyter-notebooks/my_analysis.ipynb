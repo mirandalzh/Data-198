Name: Miranda Li
SID: 3033789178
Email: mirandalzh@berkeley.edu